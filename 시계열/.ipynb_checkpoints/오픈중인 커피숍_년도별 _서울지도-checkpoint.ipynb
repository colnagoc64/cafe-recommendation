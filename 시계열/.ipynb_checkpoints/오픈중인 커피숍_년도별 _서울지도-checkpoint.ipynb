{
 "cells": [
  {
   "cell_type": "code",
   "execution_count": null,
   "id": "d43706f3",
   "metadata": {},
   "outputs": [],
   "source": [
    "import pandas as pd\n",
    "import numpy as np\n",
    "import warnings\n",
    "warnings.filterwarnings(action='ignore')"
   ]
  },
  {
   "cell_type": "code",
   "execution_count": null,
   "id": "32d3beb5",
   "metadata": {},
   "outputs": [],
   "source": [
    "df = pd.read_csv(\"./data/seoul_coffee_ver06.csv\", encoding='cp949')"
   ]
  },
  {
   "cell_type": "code",
   "execution_count": null,
   "id": "4fda3b2d",
   "metadata": {},
   "outputs": [],
   "source": [
    "df['폐업일자'] = df['폐업일자'].astype(int)"
   ]
  },
  {
   "cell_type": "markdown",
   "id": "293abf13",
   "metadata": {},
   "source": [
    "# 현재기준"
   ]
  },
  {
   "cell_type": "markdown",
   "id": "3cb99e15",
   "metadata": {},
   "source": [
    "## 폐업한 일반 커피숍 : 29485개"
   ]
  },
  {
   "cell_type": "code",
   "execution_count": null,
   "id": "76c24bfa",
   "metadata": {},
   "outputs": [],
   "source": [
    "df[(df['폐업일자'] != 20211231) & (df['franchise'] == 2.0)].index"
   ]
  },
  {
   "cell_type": "markdown",
   "id": "71b7f7da",
   "metadata": {},
   "source": [
    "## 영업중인 일반 커피숍 : 13249개"
   ]
  },
  {
   "cell_type": "code",
   "execution_count": null,
   "id": "06294bf8",
   "metadata": {},
   "outputs": [],
   "source": [
    "df[(df['폐업일자'] == 20211231) & (df['franchise'] == 2.0)].index"
   ]
  },
  {
   "cell_type": "markdown",
   "id": "c3975846",
   "metadata": {},
   "source": [
    "## 폐업한 프랜차이즈 : 1751개"
   ]
  },
  {
   "cell_type": "code",
   "execution_count": null,
   "id": "7f7a0c0c",
   "metadata": {},
   "outputs": [],
   "source": [
    "df[(df['폐업일자'] != 20211231) & ((df['franchise'] == 0.0) | (df['franchise'] == 1.0))].index"
   ]
  },
  {
   "cell_type": "markdown",
   "id": "8001666d",
   "metadata": {},
   "source": [
    "## 영업중인 프랜차이즈 : 2752개"
   ]
  },
  {
   "cell_type": "code",
   "execution_count": null,
   "id": "a989a313",
   "metadata": {},
   "outputs": [],
   "source": [
    "df[(df['폐업일자'] == 20211231) & ((df['franchise'] == 0.0) | (df['franchise'] == 1.0))].index"
   ]
  },
  {
   "cell_type": "markdown",
   "id": "2354d3af",
   "metadata": {},
   "source": [
    "# 2010-01-01 기준"
   ]
  },
  {
   "cell_type": "markdown",
   "id": "ff63b28f",
   "metadata": {},
   "source": [
    "## 폐업한 일반 커피숍 : 14963개"
   ]
  },
  {
   "cell_type": "code",
   "execution_count": null,
   "id": "551da13d",
   "metadata": {},
   "outputs": [],
   "source": [
    "df[(df['폐업일자'] < 20100000) & (df['franchise'] == 2.0)].index"
   ]
  },
  {
   "cell_type": "markdown",
   "id": "ed50c8e9",
   "metadata": {},
   "source": [
    "## 영업중인 일반 커피숍 : 3812개"
   ]
  },
  {
   "cell_type": "code",
   "execution_count": null,
   "id": "c2ab5aaf",
   "metadata": {},
   "outputs": [],
   "source": [
    "df[(df['인허가일자'] < 20100000) & (df['폐업일자'] >= 20100000) & (df['franchise'] == 2.0)].index"
   ]
  },
  {
   "cell_type": "markdown",
   "id": "2f321f34",
   "metadata": {},
   "source": [
    "## 폐업한 프랜차이즈 : 105개"
   ]
  },
  {
   "cell_type": "code",
   "execution_count": null,
   "id": "f3bb7b96",
   "metadata": {},
   "outputs": [],
   "source": [
    "df[(df['폐업일자'] < 20100000) & ((df['franchise'] == 0.0) | (df['franchise'] == 1.0))].index"
   ]
  },
  {
   "cell_type": "markdown",
   "id": "cffce48b",
   "metadata": {},
   "source": [
    "## 영업중인 프랜차이즈 : 764개"
   ]
  },
  {
   "cell_type": "code",
   "execution_count": null,
   "id": "a1b15fc3",
   "metadata": {},
   "outputs": [],
   "source": [
    "df[(df['인허가일자'] < 20100000) & (df['폐업일자'] >= 20100000) & ((df['franchise'] == 0.0) | (df['franchise'] == 1.0))].index"
   ]
  },
  {
   "cell_type": "markdown",
   "id": "d3f5ffaf",
   "metadata": {},
   "source": [
    "# 2000-01-01 기준"
   ]
  },
  {
   "cell_type": "markdown",
   "id": "b35398df",
   "metadata": {},
   "source": [
    "## 폐업한 일반 커피숍 : 8623개"
   ]
  },
  {
   "cell_type": "code",
   "execution_count": null,
   "id": "445f421e",
   "metadata": {},
   "outputs": [],
   "source": [
    "df[(df['폐업일자'] < 20000000) & (df['franchise'] == 2.0)].index"
   ]
  },
  {
   "cell_type": "markdown",
   "id": "0b5d6cb8",
   "metadata": {},
   "source": [
    "## 영업중인 일반 커피숍 : 5589개"
   ]
  },
  {
   "cell_type": "code",
   "execution_count": null,
   "id": "fb77c546",
   "metadata": {},
   "outputs": [],
   "source": [
    "df[(df['인허가일자'] < 20000000) & (df['폐업일자'] >= 20000000) & (df['franchise'] == 2.0)].index"
   ]
  },
  {
   "cell_type": "markdown",
   "id": "7aeb5492",
   "metadata": {},
   "source": [
    "## 폐업한 프랜차이즈 : 1개"
   ]
  },
  {
   "cell_type": "code",
   "execution_count": null,
   "id": "6c872ffa",
   "metadata": {},
   "outputs": [],
   "source": [
    "df[(df['폐업일자'] < 20000000) & ((df['franchise'] == 0.0) | (df['franchise'] == 1.0))].index"
   ]
  },
  {
   "cell_type": "markdown",
   "id": "c521d142",
   "metadata": {},
   "source": [
    "## 영업중인 프랜차이즈 : 11개"
   ]
  },
  {
   "cell_type": "code",
   "execution_count": null,
   "id": "6b81267f",
   "metadata": {},
   "outputs": [],
   "source": [
    "df[(df['인허가일자'] < 20000000) & (df['폐업일자'] >= 20000000) & ((df['franchise'] == 0.0) | (df['franchise'] == 1.0))].index"
   ]
  },
  {
   "cell_type": "code",
   "execution_count": null,
   "id": "a775f44b",
   "metadata": {},
   "outputs": [],
   "source": [
    "(df[df['폐업일자'] < 20100000]).index"
   ]
  },
  {
   "cell_type": "code",
   "execution_count": null,
   "id": "2e6958d7",
   "metadata": {},
   "outputs": [],
   "source": [
    "df[(df['인허가일자'] < 20000000) & (df['폐업일자'] >= 20000000) & ((df['franchise'] == 0.0) | (df['franchise'] == 1.0))]"
   ]
  },
  {
   "cell_type": "markdown",
   "id": "a92586f2",
   "metadata": {},
   "source": [
    "# 시각화를 위한 데이터준비"
   ]
  },
  {
   "cell_type": "code",
   "execution_count": null,
   "id": "03cd1f54",
   "metadata": {},
   "outputs": [],
   "source": [
    "import folium\n",
    "import requests\n",
    "import json\n",
    "from folium.plugins import MarkerCluster"
   ]
  },
  {
   "cell_type": "code",
   "execution_count": null,
   "id": "db665f1b",
   "metadata": {},
   "outputs": [],
   "source": [
    "df1 = df.copy()"
   ]
  },
  {
   "cell_type": "code",
   "execution_count": null,
   "id": "423c7132",
   "metadata": {},
   "outputs": [],
   "source": [
    "df1['지번주소'] = df1['지번주소'].apply(lambda x: x.replace('서울특별시',''), )"
   ]
  },
  {
   "cell_type": "code",
   "execution_count": null,
   "id": "33930ad3",
   "metadata": {},
   "outputs": [],
   "source": [
    "df1['gu'] = df1['지번주소'].apply(lambda x: x.split('구')[0]+'구')"
   ]
  },
  {
   "cell_type": "code",
   "execution_count": null,
   "id": "abd6226f",
   "metadata": {},
   "outputs": [],
   "source": [
    "df1[df1['gu'] == '구'] = df1[df1['gu'] == '구'].apply(lambda x: x.replace('구',\"구로구\"))"
   ]
  },
  {
   "cell_type": "code",
   "execution_count": null,
   "id": "a6adf068",
   "metadata": {},
   "outputs": [],
   "source": [
    "df1[df1['gu'] == ' 구'] = df1[df1['gu'] == ' 구'].apply(lambda x: x.replace(' 구',\"구로구\"))"
   ]
  },
  {
   "cell_type": "code",
   "execution_count": null,
   "id": "12f1fa20",
   "metadata": {},
   "outputs": [],
   "source": [
    "df1['gu'] = df1['gu'].apply(lambda x: x.strip())"
   ]
  },
  {
   "cell_type": "code",
   "execution_count": null,
   "id": "41e91aec",
   "metadata": {},
   "outputs": [],
   "source": [
    "df1.drop(['소재지면적','지번주소','업태구분명'],  axis=1, inplace=True)"
   ]
  },
  {
   "cell_type": "code",
   "execution_count": null,
   "id": "e443f004",
   "metadata": {},
   "outputs": [],
   "source": [
    "df1.sort_values('인허가일자')"
   ]
  },
  {
   "cell_type": "code",
   "execution_count": null,
   "id": "92f79c14",
   "metadata": {},
   "outputs": [],
   "source": [
    "df1[(df1['인허가일자'] < 19900000) & (df1['영업상태코드'] == 1)].index"
   ]
  },
  {
   "cell_type": "code",
   "execution_count": null,
   "id": "1ab51304",
   "metadata": {},
   "outputs": [],
   "source": [
    "# 서울 행정구역 json raw파일\n",
    "r = requests.get('https://raw.githubusercontent.com/southkorea/seoul-maps/master/kostat/2013/json/seoul_municipalities_geo_simple.json')\n",
    "c = r.content\n",
    "seoul_geo = json.loads(c)"
   ]
  },
  {
   "cell_type": "markdown",
   "id": "d75ba5ee",
   "metadata": {},
   "source": [
    "## 년도별 카페 오픈 수 함수 정의"
   ]
  },
  {
   "cell_type": "code",
   "execution_count": null,
   "id": "ac06735e",
   "metadata": {},
   "outputs": [],
   "source": [
    "def input_date(year):\n",
    "    date = str(year)+'0000'\n",
    "    result = df1[(df1['인허가일자'] < int(date)) & (df1['폐업일자'] > int(date))]\n",
    "\n",
    "    return result"
   ]
  },
  {
   "cell_type": "code",
   "execution_count": null,
   "id": "9d7888ee",
   "metadata": {},
   "outputs": [],
   "source": [
    "b1980 = input_date(1980)"
   ]
  },
  {
   "cell_type": "code",
   "execution_count": null,
   "id": "f55963a7",
   "metadata": {},
   "outputs": [],
   "source": [
    "def map_time(name):\n",
    "    count= name.groupby('gu')['사업장명'].count()\n",
    "    \n",
    "    bins = list(count.quantile([0, 0.25, 0.5, 0.75, 1]))\n",
    "    m = folium.Map(\n",
    "        location=[37.559819, 126.963895],\n",
    "        zoom_start=11, \n",
    "        tiles='cartodbpositron'\n",
    "    )\n",
    "\n",
    "    folium.GeoJson(\n",
    "        seoul_geo,\n",
    "        name='지역구'\n",
    "    ).add_to(m)\n",
    "\n",
    "    marker_cluster = MarkerCluster().add_to(m)\n",
    "\n",
    "    for lat, long, name in zip(name['lat'], name['long'], name['사업장명']):\n",
    "        folium.Marker([lat, long], icon = folium.Icon(color='green'), tooltip=name).add_to(marker_cluster)\n",
    "\n",
    "    m.choropleth(geo_data=seoul_geo,\n",
    "                 data=count,\n",
    "                 fill_color='YlOrRd', # 색상 변경도 가능하다\n",
    "                 fill_opacity=0.5,\n",
    "                 line_opacity=0.2,\n",
    "                 key_on='properties.name',\n",
    "                 legend_name=\"지역구별 커피 업종 수\",\n",
    "                 bins=bins\n",
    "                )\n",
    "    return m"
   ]
  },
  {
   "cell_type": "code",
   "execution_count": null,
   "id": "7f4629dd",
   "metadata": {},
   "outputs": [],
   "source": [
    "map_time(b1980)"
   ]
  },
  {
   "cell_type": "markdown",
   "id": "84652809",
   "metadata": {},
   "source": [
    "##  ~ 1980 년 영업중인 커피숍"
   ]
  },
  {
   "cell_type": "code",
   "execution_count": null,
   "id": "7ba22718",
   "metadata": {},
   "outputs": [],
   "source": [
    "b1980 = input_date(1980)\n",
    "c1980 = df1[df1['폐업일자'] < 19800000]"
   ]
  },
  {
   "cell_type": "code",
   "execution_count": null,
   "id": "d37c946c",
   "metadata": {},
   "outputs": [],
   "source": [
    "b1980_count= b1980.groupby('gu')['사업장명'].count()\n",
    "b1980_count"
   ]
  },
  {
   "cell_type": "code",
   "execution_count": null,
   "id": "77877e88",
   "metadata": {},
   "outputs": [],
   "source": [
    "m = folium.Map(\n",
    "    location=[37.559819, 126.963895],\n",
    "    zoom_start=10.5, \n",
    "    tiles='cartodbpositron'\n",
    ")\n",
    "\n",
    "folium.GeoJson(\n",
    "    seoul_geo,\n",
    "    name='지역구'\n",
    ").add_to(m)\n",
    "\n",
    "marker_cluster = MarkerCluster().add_to(m)\n",
    "\n",
    "for lat, long, name in zip(b1980['lat'], b1980['long'], b1980['사업장명']):\n",
    "    folium.Marker([lat, long], icon = folium.Icon(color='green'), tooltip=name).add_to(marker_cluster)\n",
    "\n",
    "m.choropleth(geo_data=seoul_geo,\n",
    "             data=b1980_count,\n",
    "             fill_color='YlOrRd', # 색상 변경도 가능하다\n",
    "             fill_opacity=0.5,\n",
    "             line_opacity=0.2,\n",
    "             key_on='properties.name',\n",
    "             legend_name=\"지역구별 커피 업종 수\",\n",
    "            )\n",
    "m"
   ]
  },
  {
   "cell_type": "code",
   "execution_count": null,
   "id": "51b5adf6",
   "metadata": {},
   "outputs": [],
   "source": [
    "bins = list(b1980_count.quantile([0, 0.25, 0.5, 0.75, 1]))\n",
    "\n",
    "m = folium.Map(\n",
    "    location=[37.559819, 126.963895],\n",
    "    zoom_start=10.5, \n",
    "    tiles='cartodbpositron'\n",
    ")\n",
    "\n",
    "folium.GeoJson(\n",
    "    seoul_geo,\n",
    "    name='지역구'\n",
    ").add_to(m)\n",
    "\n",
    "marker_cluster = MarkerCluster().add_to(m)\n",
    "\n",
    "for lat, long, name in zip(b1980['lat'], b1980['long'], b1980['사업장명']):\n",
    "    folium.Marker([lat, long], icon = folium.Icon(color='green'), tooltip=name).add_to(marker_cluster)\n",
    "\n",
    "\n",
    "m.choropleth(geo_data=seoul_geo,\n",
    "             data=b1980_count,\n",
    "             fill_color='YlOrRd', # 색상 변경도 가능하다\n",
    "             fill_opacity=0.5,\n",
    "             line_opacity=0.2,\n",
    "             key_on='properties.name',\n",
    "             legend_name=\"지역구별 커피 업종 수\",\n",
    "             bins=bins\n",
    "            )\n",
    "m"
   ]
  },
  {
   "cell_type": "code",
   "execution_count": null,
   "id": "f4222b8a",
   "metadata": {},
   "outputs": [],
   "source": [
    "## ~ 1990년 영업중인 커피숍"
   ]
  },
  {
   "cell_type": "code",
   "execution_count": null,
   "id": "8e3b0594",
   "metadata": {},
   "outputs": [],
   "source": [
    "b1990 = input_date(1990)\n",
    "c1990 = df1[df1['폐업일자'].between(19800000,19900000, inclusive=True)]\n",
    "o1990 = df1[df1['인허가일자'].between(19800000,19900000, inclusive=True)]"
   ]
  },
  {
   "cell_type": "code",
   "execution_count": null,
   "id": "6bca1422",
   "metadata": {},
   "outputs": [],
   "source": [
    "map_time(b1990)"
   ]
  },
  {
   "cell_type": "markdown",
   "id": "0aa8f641",
   "metadata": {},
   "source": [
    "## ~ 2000년 영업중인 커피숍"
   ]
  },
  {
   "cell_type": "code",
   "execution_count": null,
   "id": "ed87d80b",
   "metadata": {},
   "outputs": [],
   "source": [
    "b2000 = input_date(2000)\n",
    "c2000 = df1[df1['폐업일자'].between(19900000,20000000, inclusive=True)]\n",
    "o2000 = df1[df1['인허가일자'].between(19900000,20000000, inclusive=True)]"
   ]
  },
  {
   "cell_type": "code",
   "execution_count": null,
   "id": "393255fa",
   "metadata": {},
   "outputs": [],
   "source": [
    "b2000_count= b2000.groupby('gu')['사업장명'].count()\n",
    "b2000_count"
   ]
  },
  {
   "cell_type": "code",
   "execution_count": null,
   "id": "2bf8edd0",
   "metadata": {},
   "outputs": [],
   "source": [
    "map_time(b2000)"
   ]
  },
  {
   "cell_type": "markdown",
   "id": "378793b4",
   "metadata": {},
   "source": [
    "##  ~ 2005년 영업중인 커피숍"
   ]
  },
  {
   "cell_type": "code",
   "execution_count": null,
   "id": "07008fae",
   "metadata": {},
   "outputs": [],
   "source": [
    "b2005 = input_date(2005)\n",
    "c2005 = df1[df1['폐업일자'].between(20000000,20050000, inclusive=True)]\n",
    "o2005 = df1[df1['인허가일자'].between(20000000,20050000, inclusive=True)]"
   ]
  },
  {
   "cell_type": "code",
   "execution_count": null,
   "id": "fa754f41",
   "metadata": {},
   "outputs": [],
   "source": [
    "b2005_count= b2005.groupby('gu')['사업장명'].count()\n",
    "b2005_count"
   ]
  },
  {
   "cell_type": "code",
   "execution_count": null,
   "id": "c757b2fe",
   "metadata": {},
   "outputs": [],
   "source": [
    "map_time(b2003)"
   ]
  },
  {
   "cell_type": "code",
   "execution_count": null,
   "id": "04c87573",
   "metadata": {},
   "outputs": [],
   "source": [
    "b2003_count= b2003.groupby('gu')['사업장명'].count()\n",
    "b2003_count"
   ]
  },
  {
   "cell_type": "code",
   "execution_count": null,
   "id": "c38f570d",
   "metadata": {},
   "outputs": [],
   "source": [
    "b2003_count = b2003_count * 2"
   ]
  },
  {
   "cell_type": "code",
   "execution_count": null,
   "id": "bafaf410",
   "metadata": {},
   "outputs": [],
   "source": [
    "b2003_count"
   ]
  },
  {
   "cell_type": "code",
   "execution_count": null,
   "id": "09ef4faf",
   "metadata": {},
   "outputs": [],
   "source": [
    "bins = list(b2003_count.quantile([0, 0.25, 0.5, 0.75, 1]))\n",
    "m = folium.Map(\n",
    "    location=[37.559819, 126.963895],\n",
    "    zoom_start=11, \n",
    "    tiles='cartodbpositron'\n",
    ")\n",
    "\n",
    "folium.GeoJson(\n",
    "    seoul_geo,\n",
    "    name='지역구'\n",
    ").add_to(m)\n",
    "\n",
    "marker_cluster = MarkerCluster().add_to(m)\n",
    "\n",
    "for lat, long, name in zip(b2003['lat'], b2003['long'], b2003['사업장명']):\n",
    "    folium.Marker([lat, long], icon = folium.Icon(color='green'), tooltip=name).add_to(marker_cluster)\n",
    "\n",
    "m.choropleth(geo_data=seoul_geo,\n",
    "             data=b2003_count,\n",
    "             fill_color='YlOrRd', # 색상 변경도 가능하다\n",
    "             fill_opacity=0.5,\n",
    "             line_opacity=0.2,\n",
    "             key_on='properties.name',\n",
    "             legend_name=\"지역구별 커피 업종 수\",\n",
    "             bins=bins\n",
    "            )\n",
    "m"
   ]
  },
  {
   "cell_type": "code",
   "execution_count": null,
   "id": "4eb44c5d",
   "metadata": {},
   "outputs": [],
   "source": [
    "map_time(b2005)"
   ]
  },
  {
   "cell_type": "markdown",
   "id": "c0c42bd1",
   "metadata": {},
   "source": [
    "## 2010년 영업중인 커피숍"
   ]
  },
  {
   "cell_type": "code",
   "execution_count": null,
   "id": "ae94385f",
   "metadata": {},
   "outputs": [],
   "source": [
    "b2010 = input_date(2010)\n",
    "c2010 = df1[df1['폐업일자'].between(20050000,20100000, inclusive=True)]\n",
    "o2010 = df1[df1['인허가일자'].between(20050000,20100000, inclusive=True)]"
   ]
  },
  {
   "cell_type": "code",
   "execution_count": null,
   "id": "dba03962",
   "metadata": {},
   "outputs": [],
   "source": [
    "map_time(b2010)"
   ]
  },
  {
   "cell_type": "markdown",
   "id": "b7541b83",
   "metadata": {},
   "source": [
    "## ~ 2015년 영업중인 커피숍"
   ]
  },
  {
   "cell_type": "code",
   "execution_count": null,
   "id": "de286b8f",
   "metadata": {},
   "outputs": [],
   "source": [
    "b2015 = input_date(2015)\n",
    "c2015 = df1[df1['폐업일자'].between(20100000,20150000, inclusive=True)]\n",
    "o2015 = df1[df1['인허가일자'].between(20100000,20150000, inclusive=True)]"
   ]
  },
  {
   "cell_type": "code",
   "execution_count": null,
   "id": "bd8dc634",
   "metadata": {},
   "outputs": [],
   "source": [
    "map_time(b2015)"
   ]
  },
  {
   "cell_type": "markdown",
   "id": "7ce05c24",
   "metadata": {},
   "source": [
    "## 2020년 영업중인 커피숍"
   ]
  },
  {
   "cell_type": "code",
   "execution_count": null,
   "id": "c03ee0af",
   "metadata": {},
   "outputs": [],
   "source": [
    "b2020 = input_date(2020)\n",
    "c2020 = df1[df1['폐업일자'].between(20150000,20200000, inclusive=True)]\n",
    "o2020 = df1[df1['인허가일자'].between(20150000,20200000, inclusive=True)]"
   ]
  },
  {
   "cell_type": "code",
   "execution_count": null,
   "id": "1cab1fe4",
   "metadata": {},
   "outputs": [],
   "source": [
    "map_time(b2020)"
   ]
  },
  {
   "cell_type": "markdown",
   "id": "c89a6fa2",
   "metadata": {},
   "source": [
    "## 2021년 영업중인 커피숍 (현재)"
   ]
  },
  {
   "cell_type": "code",
   "execution_count": null,
   "id": "e783ff60",
   "metadata": {},
   "outputs": [],
   "source": [
    "b2021 = df1[df1['영업상태코드'] == 1]\n",
    "b2021.shape"
   ]
  },
  {
   "cell_type": "code",
   "execution_count": null,
   "id": "1ee1ed1e",
   "metadata": {},
   "outputs": [],
   "source": [
    "map2021 = map_time(b2021)\n",
    "# map2021.to_html()\n",
    "map2021.save('map2021.html')\n",
    "map2021"
   ]
  },
  {
   "cell_type": "markdown",
   "id": "2cc9a421",
   "metadata": {},
   "source": [
    "## 현재 영업중인카페 분포도 및 그래프"
   ]
  },
  {
   "cell_type": "code",
   "execution_count": null,
   "id": "938f9173",
   "metadata": {},
   "outputs": [],
   "source": [
    "b2021 = input_date(2021)"
   ]
  },
  {
   "cell_type": "code",
   "execution_count": null,
   "id": "97ebb824",
   "metadata": {},
   "outputs": [],
   "source": [
    "b2021_count= b2021.groupby('gu')['사업장명'].count()"
   ]
  },
  {
   "cell_type": "code",
   "execution_count": null,
   "id": "b3c62423",
   "metadata": {},
   "outputs": [],
   "source": [
    "b2021_count_df = pd.DataFrame(b2021_count)\n",
    "b2021_count_df = b2021_count_df.reset_index()\n",
    "b2021_count_df"
   ]
  },
  {
   "cell_type": "code",
   "execution_count": null,
   "id": "9382ad5e",
   "metadata": {},
   "outputs": [],
   "source": [
    "b2021_count_df.rename(columns = {\"사업장명\":\"count\"}, inplace=True)\n",
    "b2021_count_df"
   ]
  },
  {
   "cell_type": "code",
   "execution_count": null,
   "id": "48e69485",
   "metadata": {},
   "outputs": [],
   "source": [
    "import matplotlib.pyplot as plt\n",
    "import matplotlib as mpl\n",
    "import seaborn as sns"
   ]
  },
  {
   "cell_type": "code",
   "execution_count": null,
   "id": "f614a7ca",
   "metadata": {},
   "outputs": [],
   "source": [
    "plt.rcParams['font.family'] = 'Malgun Gothic'"
   ]
  },
  {
   "cell_type": "code",
   "execution_count": null,
   "id": "c3564766",
   "metadata": {},
   "outputs": [],
   "source": [
    "fig = plt.figure(figsize = (34,10))\n",
    "fig2 = plt.figure(figsize = (26,10))\n",
    "\n",
    "ax1 = fig.add_subplot(1,2,1)\n",
    "ax2 = fig2.add_subplot(2,2,1)\n",
    "\n",
    "ax1 = sns.scatterplot(x=b2021['long'], y=b2021['lat'], hue=b2021['gu'], ax=ax1)\n",
    "ax1.set(title='구별 매장 분포')\n",
    "ax1.set(xlabel=\"경도\")\n",
    "ax1.set(ylabel=\"위도\")\n",
    "\n",
    "ax2 = sns.barplot(data=b2021_count_df, x='gu', y='count', ax=ax2)\n",
    "for item in ax2.get_xticklabels():\n",
    "    item.set_rotation(45)\n",
    "    \n",
    "bars = [rect for rect in ax2.get_children() if isinstance(rect, mpl.patches.Rectangle)]\n",
    "\n",
    "for rect in bars:\n",
    "    height = rect.get_height()\n",
    "    plt.text(rect.get_x() + rect.get_width() / 2.0, 1.01*height, f'{height:.0f}', ha='center', va='bottom')\n",
    "    \n",
    "ax2.set(title='구별 매장 분포')\n",
    "ax2.set(xlabel=\"구\")\n",
    "ax2.set(ylabel=\"매장수\")"
   ]
  }
 ],
 "metadata": {
  "kernelspec": {
   "display_name": "Python 3 (ipykernel)",
   "language": "python",
   "name": "python3"
  },
  "language_info": {
   "codemirror_mode": {
    "name": "ipython",
    "version": 3
   },
   "file_extension": ".py",
   "mimetype": "text/x-python",
   "name": "python",
   "nbconvert_exporter": "python",
   "pygments_lexer": "ipython3",
   "version": "3.9.7"
  },
  "toc": {
   "base_numbering": 1,
   "nav_menu": {},
   "number_sections": true,
   "sideBar": true,
   "skip_h1_title": false,
   "title_cell": "Table of Contents",
   "title_sidebar": "Contents",
   "toc_cell": false,
   "toc_position": {},
   "toc_section_display": true,
   "toc_window_display": false
  }
 },
 "nbformat": 4,
 "nbformat_minor": 5
}
