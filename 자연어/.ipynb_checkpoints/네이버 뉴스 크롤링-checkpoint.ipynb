{
 "cells": [
  {
   "cell_type": "code",
   "execution_count": 1,
   "id": "2ff2d13e",
   "metadata": {},
   "outputs": [],
   "source": [
    "from bs4 import BeautifulSoup \n",
    "from datetime import datetime \n",
    "import requests \n",
    "import pandas as pd \n",
    "import re"
   ]
  },
  {
   "cell_type": "code",
   "execution_count": 32,
   "id": "dde9ce12",
   "metadata": {},
   "outputs": [],
   "source": [
    "#날짜 정제화 함수\n",
    "def date_cleansing(test):\n",
    "    try:\n",
    "        #지난 뉴스\n",
    "        #머니투데이  10면1단  2018.11.05.  네이버뉴스   보내기  \n",
    "        pattern = '\\d+.(\\d+).(\\d+).'  #정규표현식 \n",
    "    \n",
    "        r = re.compile(pattern)\n",
    "        match = r.search(test).group(0)  # 2018.11.05.\n",
    "        date_text.append(match)\n",
    "        \n",
    "    except AttributeError:\n",
    "        #최근 뉴스\n",
    "        #이데일리  1시간 전  네이버뉴스   보내기  \n",
    "        pattern = '\\w* (\\d\\w*)'     #정규표현식 \n",
    "        \n",
    "        r = re.compile(pattern)\n",
    "        match = r.search(test).group(1)\n",
    "        #print(match)\n",
    "        date_text.append(match)"
   ]
  },
  {
   "cell_type": "code",
   "execution_count": 33,
   "id": "3018a45c",
   "metadata": {},
   "outputs": [],
   "source": [
    "#내용 정제화 함수 \n",
    "def contents_cleansing(contents):\n",
    "    first_cleansing_contents = re.sub('<dl>.*?</a> </div> </dd> <dd>', '', \n",
    "                                      str(contents)).strip()  #앞에 필요없는 부분 제거\n",
    "    second_cleansing_contents = re.sub('<ul class=\"relation_lst\">.*?</dd>', '', \n",
    "                                       first_cleansing_contents).strip()#뒤에 필요없는 부분 제거 (새끼 기사)\n",
    "    third_cleansing_contents = re.sub('<.+?>', '', second_cleansing_contents).strip()\n",
    "    contents_text.append(third_cleansing_contents)\n",
    "    #print(contents_text)"
   ]
  },
  {
   "cell_type": "code",
   "execution_count": 45,
   "id": "c65e95b8",
   "metadata": {},
   "outputs": [],
   "source": [
    "def crawler(maxpage,query,query2,s_date,e_date):\n",
    "    s_from = s_date.replace(\".\",\"\") \n",
    "    e_to = e_date.replace(\".\",\"\") \n",
    "    page = 1 \n",
    "    maxpage_t =(int(maxpage)-1)*10+1 # 11= 2페이지 21=3페이지 31=4페이지 ...81=9페이지 , 91=10페이지, 101=11페이지\n",
    "\n",
    "    for page in range(1,maxpage_t,10): \n",
    "        url = \"https://search.naver.com/search.naver?where=news&sm=tab_pge&query=\"+query+\"%20%2B\"+query2+\"&sort=0&photo=0&field=0&pd=3&ds=\"+s_date+\"&de=\"+e_date+\"&mynews=0&office_type=0&office_section_code=0&news_office_checked=&nso=so:r,p:from\"+s_from+\"to\"+e_to+\",a:all&start=\"+str(page)\n",
    "        response = requests.get(url) \n",
    "        html = response.text\n",
    "        \n",
    "        \n",
    "        #뷰티풀소프의 인자값 지정\n",
    "        soup = BeautifulSoup(html, 'html.parser')\n",
    "        \n",
    "        #<a>태그에서 제목과 링크주소 추출\n",
    "        atags = soup.select('.news_tit')\n",
    "        for atag in atags:\n",
    "            title_text.append(atag.text)     #제목\n",
    "        \n",
    "        # 날짜 추출   \n",
    "        date_lists = soup.select('.info_group > span.info') \n",
    "        for date_list in date_lists: \n",
    "            # 1면 3단 같은 위치 제거 \n",
    "            if date_list.text.find(\"면\") == -1: \n",
    "                date_text.append(date_list.text)\n",
    "\n",
    "        #본문요약본 \n",
    "        contents_lists = soup.select('.news_dsc') \n",
    "        for contents_list in contents_lists: \n",
    "            contents_cleansing(contents_list) #본문요약 정제화\n",
    "\n",
    "        #모든 리스트 딕셔너리형태로 저장 \n",
    "        result= {\"date\" : date_text , \"title\":title_text  ,\"contents\": contents_text } \n",
    "        print(page)\n",
    "        df = pd.DataFrame(result) #df로 변환 \n",
    "        page += 10\n",
    "    print('======다운완료=======')\n",
    "\n",
    "    #새로만들 파일 이름 지정\n",
    "    file_name = '네이버뉴스_{}_{}_{}_{}.csv'.format(query, query2,s_from,e_to)\n",
    "    df.to_csv(file_name,encoding='utf-8' )"
   ]
  },
  {
   "cell_type": "code",
   "execution_count": 6,
   "id": "f2f26506",
   "metadata": {},
   "outputs": [],
   "source": [
    "# def main():\n",
    "#     maxpage = input(\"크롤링할 페이지 수 입력하세요 (400): \")\n",
    "#     query = input(\"기본검색어 입력: \")\n",
    "#     query2 = input(\"반드시 포함할 단어:\")\n",
    "#     query3 = input(\"반드시 포함할 단어:\")\n",
    "#     s_date = input(\"시작날짜 입력(2019.01.04):\")\n",
    "#     e_date = input(\"끝날짜 입력(2019.01.05):\")\n",
    "\n",
    "#     crawler(maxpage,query,query2,query3,query4,s_date,e_date)"
   ]
  },
  {
   "cell_type": "code",
   "execution_count": null,
   "id": "6aa2702e",
   "metadata": {},
   "outputs": [],
   "source": [
    "# main()"
   ]
  },
  {
   "cell_type": "code",
   "execution_count": 46,
   "id": "143c73a9",
   "metadata": {},
   "outputs": [],
   "source": [
    "maxpage='28'\n",
    "query='서울'\n",
    "query2='폐업'\n",
    "query3='창업'"
   ]
  },
  {
   "cell_type": "code",
   "execution_count": 50,
   "id": "89b9051a",
   "metadata": {},
   "outputs": [],
   "source": [
    "s_date='2016.02.01'\n",
    "e_date='2016.02.31'"
   ]
  },
  {
   "cell_type": "code",
   "execution_count": 51,
   "id": "d14b0579",
   "metadata": {},
   "outputs": [],
   "source": [
    "#반드시 이거 실행하고 main 해야 은그러면 다름크롤링때 데이터가 겹침\n",
    "title_text=[]\n",
    "date_text=[]\n",
    "contents_text=[]\n",
    "result={}"
   ]
  },
  {
   "cell_type": "code",
   "execution_count": 49,
   "id": "42ff1735",
   "metadata": {},
   "outputs": [
    {
     "name": "stdout",
     "output_type": "stream",
     "text": [
      "https://search.naver.com/search.naver?where=news&sm=tab_pge&query=서울%20%2B폐업&sort=0&photo=0&field=0&pd=3&ds=2016.01.01&de=2016.01.31&mynews=0&office_type=0&office_section_code=0&news_office_checked=&nso=so:r,p:from20160101to20160131,a:all&start=1\n",
      "1\n",
      "https://search.naver.com/search.naver?where=news&sm=tab_pge&query=서울%20%2B폐업&sort=0&photo=0&field=0&pd=3&ds=2016.01.01&de=2016.01.31&mynews=0&office_type=0&office_section_code=0&news_office_checked=&nso=so:r,p:from20160101to20160131,a:all&start=11\n",
      "11\n",
      "https://search.naver.com/search.naver?where=news&sm=tab_pge&query=서울%20%2B폐업&sort=0&photo=0&field=0&pd=3&ds=2016.01.01&de=2016.01.31&mynews=0&office_type=0&office_section_code=0&news_office_checked=&nso=so:r,p:from20160101to20160131,a:all&start=21\n",
      "21\n",
      "https://search.naver.com/search.naver?where=news&sm=tab_pge&query=서울%20%2B폐업&sort=0&photo=0&field=0&pd=3&ds=2016.01.01&de=2016.01.31&mynews=0&office_type=0&office_section_code=0&news_office_checked=&nso=so:r,p:from20160101to20160131,a:all&start=31\n",
      "31\n",
      "https://search.naver.com/search.naver?where=news&sm=tab_pge&query=서울%20%2B폐업&sort=0&photo=0&field=0&pd=3&ds=2016.01.01&de=2016.01.31&mynews=0&office_type=0&office_section_code=0&news_office_checked=&nso=so:r,p:from20160101to20160131,a:all&start=41\n",
      "41\n",
      "https://search.naver.com/search.naver?where=news&sm=tab_pge&query=서울%20%2B폐업&sort=0&photo=0&field=0&pd=3&ds=2016.01.01&de=2016.01.31&mynews=0&office_type=0&office_section_code=0&news_office_checked=&nso=so:r,p:from20160101to20160131,a:all&start=51\n",
      "51\n",
      "https://search.naver.com/search.naver?where=news&sm=tab_pge&query=서울%20%2B폐업&sort=0&photo=0&field=0&pd=3&ds=2016.01.01&de=2016.01.31&mynews=0&office_type=0&office_section_code=0&news_office_checked=&nso=so:r,p:from20160101to20160131,a:all&start=61\n",
      "61\n",
      "https://search.naver.com/search.naver?where=news&sm=tab_pge&query=서울%20%2B폐업&sort=0&photo=0&field=0&pd=3&ds=2016.01.01&de=2016.01.31&mynews=0&office_type=0&office_section_code=0&news_office_checked=&nso=so:r,p:from20160101to20160131,a:all&start=71\n",
      "71\n",
      "https://search.naver.com/search.naver?where=news&sm=tab_pge&query=서울%20%2B폐업&sort=0&photo=0&field=0&pd=3&ds=2016.01.01&de=2016.01.31&mynews=0&office_type=0&office_section_code=0&news_office_checked=&nso=so:r,p:from20160101to20160131,a:all&start=81\n",
      "81\n",
      "https://search.naver.com/search.naver?where=news&sm=tab_pge&query=서울%20%2B폐업&sort=0&photo=0&field=0&pd=3&ds=2016.01.01&de=2016.01.31&mynews=0&office_type=0&office_section_code=0&news_office_checked=&nso=so:r,p:from20160101to20160131,a:all&start=91\n",
      "91\n",
      "https://search.naver.com/search.naver?where=news&sm=tab_pge&query=서울%20%2B폐업&sort=0&photo=0&field=0&pd=3&ds=2016.01.01&de=2016.01.31&mynews=0&office_type=0&office_section_code=0&news_office_checked=&nso=so:r,p:from20160101to20160131,a:all&start=101\n",
      "101\n",
      "https://search.naver.com/search.naver?where=news&sm=tab_pge&query=서울%20%2B폐업&sort=0&photo=0&field=0&pd=3&ds=2016.01.01&de=2016.01.31&mynews=0&office_type=0&office_section_code=0&news_office_checked=&nso=so:r,p:from20160101to20160131,a:all&start=111\n",
      "111\n",
      "https://search.naver.com/search.naver?where=news&sm=tab_pge&query=서울%20%2B폐업&sort=0&photo=0&field=0&pd=3&ds=2016.01.01&de=2016.01.31&mynews=0&office_type=0&office_section_code=0&news_office_checked=&nso=so:r,p:from20160101to20160131,a:all&start=121\n",
      "121\n",
      "https://search.naver.com/search.naver?where=news&sm=tab_pge&query=서울%20%2B폐업&sort=0&photo=0&field=0&pd=3&ds=2016.01.01&de=2016.01.31&mynews=0&office_type=0&office_section_code=0&news_office_checked=&nso=so:r,p:from20160101to20160131,a:all&start=131\n",
      "131\n",
      "https://search.naver.com/search.naver?where=news&sm=tab_pge&query=서울%20%2B폐업&sort=0&photo=0&field=0&pd=3&ds=2016.01.01&de=2016.01.31&mynews=0&office_type=0&office_section_code=0&news_office_checked=&nso=so:r,p:from20160101to20160131,a:all&start=141\n",
      "141\n",
      "https://search.naver.com/search.naver?where=news&sm=tab_pge&query=서울%20%2B폐업&sort=0&photo=0&field=0&pd=3&ds=2016.01.01&de=2016.01.31&mynews=0&office_type=0&office_section_code=0&news_office_checked=&nso=so:r,p:from20160101to20160131,a:all&start=151\n",
      "151\n",
      "https://search.naver.com/search.naver?where=news&sm=tab_pge&query=서울%20%2B폐업&sort=0&photo=0&field=0&pd=3&ds=2016.01.01&de=2016.01.31&mynews=0&office_type=0&office_section_code=0&news_office_checked=&nso=so:r,p:from20160101to20160131,a:all&start=161\n",
      "161\n",
      "https://search.naver.com/search.naver?where=news&sm=tab_pge&query=서울%20%2B폐업&sort=0&photo=0&field=0&pd=3&ds=2016.01.01&de=2016.01.31&mynews=0&office_type=0&office_section_code=0&news_office_checked=&nso=so:r,p:from20160101to20160131,a:all&start=171\n",
      "171\n",
      "https://search.naver.com/search.naver?where=news&sm=tab_pge&query=서울%20%2B폐업&sort=0&photo=0&field=0&pd=3&ds=2016.01.01&de=2016.01.31&mynews=0&office_type=0&office_section_code=0&news_office_checked=&nso=so:r,p:from20160101to20160131,a:all&start=181\n",
      "181\n",
      "https://search.naver.com/search.naver?where=news&sm=tab_pge&query=서울%20%2B폐업&sort=0&photo=0&field=0&pd=3&ds=2016.01.01&de=2016.01.31&mynews=0&office_type=0&office_section_code=0&news_office_checked=&nso=so:r,p:from20160101to20160131,a:all&start=191\n",
      "191\n",
      "https://search.naver.com/search.naver?where=news&sm=tab_pge&query=서울%20%2B폐업&sort=0&photo=0&field=0&pd=3&ds=2016.01.01&de=2016.01.31&mynews=0&office_type=0&office_section_code=0&news_office_checked=&nso=so:r,p:from20160101to20160131,a:all&start=201\n",
      "201\n",
      "https://search.naver.com/search.naver?where=news&sm=tab_pge&query=서울%20%2B폐업&sort=0&photo=0&field=0&pd=3&ds=2016.01.01&de=2016.01.31&mynews=0&office_type=0&office_section_code=0&news_office_checked=&nso=so:r,p:from20160101to20160131,a:all&start=211\n",
      "211\n",
      "https://search.naver.com/search.naver?where=news&sm=tab_pge&query=서울%20%2B폐업&sort=0&photo=0&field=0&pd=3&ds=2016.01.01&de=2016.01.31&mynews=0&office_type=0&office_section_code=0&news_office_checked=&nso=so:r,p:from20160101to20160131,a:all&start=221\n",
      "221\n",
      "https://search.naver.com/search.naver?where=news&sm=tab_pge&query=서울%20%2B폐업&sort=0&photo=0&field=0&pd=3&ds=2016.01.01&de=2016.01.31&mynews=0&office_type=0&office_section_code=0&news_office_checked=&nso=so:r,p:from20160101to20160131,a:all&start=231\n",
      "231\n",
      "https://search.naver.com/search.naver?where=news&sm=tab_pge&query=서울%20%2B폐업&sort=0&photo=0&field=0&pd=3&ds=2016.01.01&de=2016.01.31&mynews=0&office_type=0&office_section_code=0&news_office_checked=&nso=so:r,p:from20160101to20160131,a:all&start=241\n",
      "241\n",
      "https://search.naver.com/search.naver?where=news&sm=tab_pge&query=서울%20%2B폐업&sort=0&photo=0&field=0&pd=3&ds=2016.01.01&de=2016.01.31&mynews=0&office_type=0&office_section_code=0&news_office_checked=&nso=so:r,p:from20160101to20160131,a:all&start=251\n",
      "251\n",
      "https://search.naver.com/search.naver?where=news&sm=tab_pge&query=서울%20%2B폐업&sort=0&photo=0&field=0&pd=3&ds=2016.01.01&de=2016.01.31&mynews=0&office_type=0&office_section_code=0&news_office_checked=&nso=so:r,p:from20160101to20160131,a:all&start=261\n",
      "261\n",
      "======다운완료=======\n"
     ]
    }
   ],
   "source": [
    "crawler(maxpage,query,query2,s_date,e_date)"
   ]
  },
  {
   "cell_type": "code",
   "execution_count": null,
   "id": "fbcf8ad0",
   "metadata": {},
   "outputs": [],
   "source": []
  }
 ],
 "metadata": {
  "kernelspec": {
   "display_name": "Python 3 (ipykernel)",
   "language": "python",
   "name": "python3"
  },
  "language_info": {
   "codemirror_mode": {
    "name": "ipython",
    "version": 3
   },
   "file_extension": ".py",
   "mimetype": "text/x-python",
   "name": "python",
   "nbconvert_exporter": "python",
   "pygments_lexer": "ipython3",
   "version": "3.9.7"
  },
  "toc": {
   "base_numbering": 1,
   "nav_menu": {},
   "number_sections": true,
   "sideBar": true,
   "skip_h1_title": false,
   "title_cell": "Table of Contents",
   "title_sidebar": "Contents",
   "toc_cell": false,
   "toc_position": {},
   "toc_section_display": true,
   "toc_window_display": false
  }
 },
 "nbformat": 4,
 "nbformat_minor": 5
}
